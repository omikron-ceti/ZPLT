{
 "cells": [
  {
   "cell_type": "code",
   "execution_count": 25,
   "metadata": {},
   "outputs": [],
   "source": [
    "import pandas as pd\n",
    "import numpy as np\n",
    "from scipy import signal, optimize, special, stats\n",
    "import matplotlib.pyplot as plt\n",
    "import math\n",
    "from uncertainties import ufloat"
   ]
  },
  {
   "cell_type": "code",
   "execution_count": null,
   "metadata": {},
   "outputs": [
    {
     "data": {
      "text/html": [
       "<div>\n",
       "<style scoped>\n",
       "    .dataframe tbody tr th:only-of-type {\n",
       "        vertical-align: middle;\n",
       "    }\n",
       "\n",
       "    .dataframe tbody tr th {\n",
       "        vertical-align: top;\n",
       "    }\n",
       "\n",
       "    .dataframe thead th {\n",
       "        text-align: right;\n",
       "    }\n",
       "</style>\n",
       "<table border=\"1\" class=\"dataframe\">\n",
       "  <thead>\n",
       "    <tr style=\"text-align: right;\">\n",
       "      <th></th>\n",
       "      <th>t [s]</th>\n",
       "      <th>V_PP [V]</th>\n",
       "    </tr>\n",
       "  </thead>\n",
       "  <tbody>\n",
       "    <tr>\n",
       "      <th>0</th>\n",
       "      <td>0</td>\n",
       "      <td>1.145</td>\n",
       "    </tr>\n",
       "    <tr>\n",
       "      <th>1</th>\n",
       "      <td>2</td>\n",
       "      <td>1.137</td>\n",
       "    </tr>\n",
       "    <tr>\n",
       "      <th>2</th>\n",
       "      <td>4</td>\n",
       "      <td>1.129</td>\n",
       "    </tr>\n",
       "    <tr>\n",
       "      <th>3</th>\n",
       "      <td>6</td>\n",
       "      <td>1.145</td>\n",
       "    </tr>\n",
       "    <tr>\n",
       "      <th>4</th>\n",
       "      <td>8</td>\n",
       "      <td>1.177</td>\n",
       "    </tr>\n",
       "    <tr>\n",
       "      <th>...</th>\n",
       "      <td>...</td>\n",
       "      <td>...</td>\n",
       "    </tr>\n",
       "    <tr>\n",
       "      <th>95</th>\n",
       "      <td>190</td>\n",
       "      <td>1.137</td>\n",
       "    </tr>\n",
       "    <tr>\n",
       "      <th>96</th>\n",
       "      <td>192</td>\n",
       "      <td>1.129</td>\n",
       "    </tr>\n",
       "    <tr>\n",
       "      <th>97</th>\n",
       "      <td>194</td>\n",
       "      <td>1.129</td>\n",
       "    </tr>\n",
       "    <tr>\n",
       "      <th>98</th>\n",
       "      <td>196</td>\n",
       "      <td>1.145</td>\n",
       "    </tr>\n",
       "    <tr>\n",
       "      <th>99</th>\n",
       "      <td>198</td>\n",
       "      <td>1.113</td>\n",
       "    </tr>\n",
       "  </tbody>\n",
       "</table>\n",
       "<p>100 rows × 2 columns</p>\n",
       "</div>"
      ],
      "text/plain": [
       "    t [s]  V_PP [V]\n",
       "0       0     1.145\n",
       "1       2     1.137\n",
       "2       4     1.129\n",
       "3       6     1.145\n",
       "4       8     1.177\n",
       "..    ...       ...\n",
       "95    190     1.137\n",
       "96    192     1.129\n",
       "97    194     1.129\n",
       "98    196     1.145\n",
       "99    198     1.113\n",
       "\n",
       "[100 rows x 2 columns]"
      ]
     },
     "execution_count": 11,
     "metadata": {},
     "output_type": "execute_result"
    }
   ],
   "source": [
    "mereni = pd.read_excel(\"data_04.xlsx\", sheet_name=\"List2\", engine=\"openpyxl\", usecols=\"A,B\")"
   ]
  },
  {
   "cell_type": "markdown",
   "metadata": {},
   "source": [
    "1. Pološířka 1. maxima v časovém průběhu impulsu TEA CO2 laseru.\n",
    "2. Celková délka světelného impulsu TEA CO2 laseru.\n"
   ]
  },
  {
   "cell_type": "code",
   "execution_count": 9,
   "metadata": {},
   "outputs": [
    {
     "data": {
      "text/html": [
       "<div>\n",
       "<style scoped>\n",
       "    .dataframe tbody tr th:only-of-type {\n",
       "        vertical-align: middle;\n",
       "    }\n",
       "\n",
       "    .dataframe tbody tr th {\n",
       "        vertical-align: top;\n",
       "    }\n",
       "\n",
       "    .dataframe thead th {\n",
       "        text-align: right;\n",
       "    }\n",
       "</style>\n",
       "<table border=\"1\" class=\"dataframe\">\n",
       "  <thead>\n",
       "    <tr style=\"text-align: right;\">\n",
       "      <th></th>\n",
       "      <th>Naměřené veličiny</th>\n",
       "    </tr>\n",
       "  </thead>\n",
       "  <tbody>\n",
       "    <tr>\n",
       "      <th>$pološířka maxima [ns]$</th>\n",
       "      <td>68.00</td>\n",
       "    </tr>\n",
       "    <tr>\n",
       "      <th>délka pulsu [\\mu s]</th>\n",
       "      <td>1.31</td>\n",
       "    </tr>\n",
       "  </tbody>\n",
       "</table>\n",
       "</div>"
      ],
      "text/plain": [
       "                         Naměřené veličiny\n",
       "$pološířka maxima [ns]$              68.00\n",
       "délka pulsu [\\mu s]                   1.31"
      ]
     },
     "execution_count": 9,
     "metadata": {},
     "output_type": "execute_result"
    }
   ],
   "source": [
    "out=pd.DataFrame.from_dict({\"pološířka maxima [ns]\": 68,\n",
    " \"délka pulsu [\\\\mu s]\": 1.31}, orient=\"index\", columns=[\"Naměřené veličiny\"])\n",
    "out"
   ]
  },
  {
   "cell_type": "markdown",
   "metadata": {},
   "source": [
    "3. Graf závislosti energie na čase a jejich výsledná střední kvadratická odchylka pro n měření, kde n je\n",
    "přibližně 100, volitelně histogram energií.\n"
   ]
  },
  {
   "cell_type": "code",
   "execution_count": 33,
   "metadata": {},
   "outputs": [
    {
     "data": {
      "image/png": "[encoded data removed]",
      "text/plain": [
       "<Figure size 640x480 with 1 Axes>"
      ]
     },
     "metadata": {},
     "output_type": "display_data"
    },
    {
     "name": "stdout",
     "output_type": "stream",
     "text": [
      "LinregressResult(slope=np.float64(-8.79927992799281e-05), intercept=np.float64(1.1465112871287129), rvalue=np.float64(-0.3163168162040499), pvalue=np.float64(0.0013452727014983891), stderr=np.float64(2.6657503758221422e-05), intercept_stderr=np.float64(0.003055047626787786))\n"
     ]
    },
    {
     "data": {
      "image/png": "[encoded data removed]",
      "text/plain": [
       "<Figure size 640x480 with 1 Axes>"
      ]
     },
     "metadata": {},
     "output_type": "display_data"
    },
    {
     "name": "stdout",
     "output_type": "stream",
     "text": [
      "NormaltestResult(statistic=np.float64(0.7049312756272706), pvalue=np.float64(0.7029527243882348))\n",
      "LinregressResult(slope=np.float64(-8.79927992799281e-05), intercept=np.float64(1.1465112871287129), rvalue=np.float64(-0.3163168162040499), pvalue=np.float64(0.0013452727014983891), stderr=np.float64(2.6657503758221422e-05), intercept_stderr=np.float64(0.003055047626787786))\n",
      "PearsonRResult(statistic=np.float64(-0.3163168162040496), pvalue=np.float64(0.0013452727014984002))\n"
     ]
    }
   ],
   "source": [
    "plt.hist(mereni[\"V_PP [V]\"])\n",
    "plt.show()\n",
    "\n",
    "lin_regrese = stats.linregress(mereni[\"t [s]\"], mereni[\"V_PP [V]\"])\n",
    "print(lin_regrese)\n",
    "\n",
    "x_axis=np.arange(mereni[\"t [s]\"].min(), mereni[\"t [s]\"].max(), 0.5)\n",
    "plt.scatter(mereni[\"t [s]\"], mereni[\"V_PP [V]\"])\n",
    "plt.plot(x_axis, lin_regrese[0]*x_axis+lin_regrese[1])\n",
    "plt.show()\n",
    "\n",
    "print(stats.normaltest(mereni[\"V_PP [V]\"]))\n",
    "print(stats.linregress(mereni[\"t [s]\"], mereni[\"V_PP [V]\"]))\n",
    "\n",
    "#print(mereni.corr())\n",
    "print(stats.pearsonr(mereni[\"t [s]\"], mereni[\"V_PP [V]\"]))\n",
    "\n"
   ]
  },
  {
   "cell_type": "markdown",
   "metadata": {},
   "source": [
    "4. Předložit několik kvalitních výsledků značkování."
   ]
  },
  {
   "cell_type": "markdown",
   "metadata": {},
   "source": []
  }
 ],
 "metadata": {
  "kernelspec": {
   "display_name": ".venv",
   "language": "python",
   "name": "python3"
  },
  "language_info": {
   "codemirror_mode": {
    "name": "ipython",
    "version": 3
   },
   "file_extension": ".py",
   "mimetype": "text/x-python",
   "name": "python",
   "nbconvert_exporter": "python",
   "pygments_lexer": "ipython3",
   "version": "3.12.3"
  }
 },
 "nbformat": 4,
 "nbformat_minor": 2
}
